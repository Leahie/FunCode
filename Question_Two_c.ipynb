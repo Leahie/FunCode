{
 "cells": [
  {
   "cell_type": "code",
   "execution_count": 1,
   "metadata": {},
   "outputs": [
    {
     "name": "stdout",
     "output_type": "stream",
     "text": [
      "Dataset FashionMNIST\n",
      "    Number of datapoints: 60000\n",
      "    Root location: data\n",
      "    Split: Train\n",
      "    StandardTransform\n",
      "Transform: ToTensor() Dataset FashionMNIST\n",
      "    Number of datapoints: 10000\n",
      "    Root location: data\n",
      "    Split: Test\n",
      "    StandardTransform\n",
      "Transform: ToTensor()\n"
     ]
    },
    {
     "data": {
      "application/vnd.jupyter.widget-view+json": {
       "model_id": "339f0f85010e4be3ae58b5ab2db02eb5",
       "version_major": 2,
       "version_minor": 0
      },
      "text/plain": [
       "  0%|          | 0/6000 [00:00<?, ?it/s]"
      ]
     },
     "metadata": {},
     "output_type": "display_data"
    }
   ],
   "source": [
    "import torch\n",
    "from torchvision import datasets\n",
    "from torchvision.transforms import ToTensor\n",
    "from torch.utils.data import DataLoader\n",
    "import matplotlib.pyplot as plt\n",
    "import torch.nn as nn\n",
    "from torch import optim\n",
    "from torch.autograd import Variable\n",
    "import sys\n",
    "from tqdm.auto import tqdm\n",
    "\n",
    "\n",
    "\n",
    "train_data = datasets.FashionMNIST(\n",
    "    root = 'data',\n",
    "    train = True,                         \n",
    "    transform = ToTensor(),  # turns to tensor\n",
    "    download = True,            \n",
    ")\n",
    "\n",
    "test_data = datasets.FashionMNIST(\n",
    "    root = 'data', \n",
    "    train = False, \n",
    "    transform = ToTensor()\n",
    ")\n",
    "\n",
    "print(train_data, test_data)\n",
    "\n",
    "dl_train = DataLoader(train_data, batch_size=100, shuffle=True)\n",
    "dl_test = DataLoader(test_data, batch_size=100, shuffle=True)\n",
    "\n",
    "class CNN(nn.Module):\n",
    "    def __init__(self):\n",
    "        super(CNN, self).__init__()\n",
    "        self.conv1 = nn.Sequential(         \n",
    "            # First conv layer \n",
    "            nn.Conv2d( \n",
    "                in_channels=1,              \n",
    "                out_channels=16,            \n",
    "                kernel_size=5,              \n",
    "                stride=1,                   \n",
    "                padding=2,                  \n",
    "            ),                              \n",
    "            nn.ReLU(),  # ReLU layer                  \n",
    "            nn.MaxPool2d(kernel_size=2),     # Maxpool\n",
    "        )\n",
    "        self.conv2 = nn.Sequential(         \n",
    "            nn.Conv2d(16, 32, 5, 1, 2),     # Now has 16 in channels bc prev layer returned 16 \n",
    "            nn.ReLU(),                      \n",
    "            nn.MaxPool2d(2),                \n",
    "        )\n",
    "        self.out = nn.Linear(32 * 7 * 7, 10)\n",
    "\n",
    "    def forward(self, x):\n",
    "        x = self.conv1(x)\n",
    "        x = self.conv2(x)\n",
    "        # flatten the output of conv2 to (batch_size, 32 * 7 * 7)\n",
    "        x = x.view(x.size(0), -1)       \n",
    "        output = self.out(x) # does the linear data on the flattened data \n",
    "        return output, x    #\n",
    "    \n",
    "cnn = CNN() \n",
    "\n",
    "if torch.cuda.is_available():\n",
    "    cnn.cuda()\n",
    "\n",
    "# Loss Function\n",
    "loss_func = nn.CrossEntropyLoss()\n",
    "\n",
    "# Optimization Function\n",
    "opt = optim.Adam(cnn.parameters(), lr=0.01)\n",
    "num_epochs = 10\n",
    "\n",
    "\n",
    "device = torch.device('cuda' if torch.cuda.is_available() else 'cpu')\n",
    "num_training_steps = num_epochs * len(dl_train)\n",
    "progress_bar = tqdm(range(num_training_steps))\n",
    "\n",
    "def train(num_epochs, cnn, opt, dl_train):\n",
    "    cnn.train()\n",
    "    for epoch in range(1, num_epochs):\n",
    "        losses = []\n",
    "        for D in dl_train:\n",
    "            data = Variable(D[0].to(device))\n",
    "            label = Variable(D[1].to(device))\n",
    "            y = cnn(data)[0]\n",
    "            loss = loss_func(y, label)\n",
    "            opt.zero_grad()\n",
    "            loss.backward()\n",
    "            opt.step()\n",
    "            progress_bar.update(1)\n",
    "\n",
    "train(num_epochs, cnn, opt, dl_train)    "
   ]
  },
  {
   "cell_type": "code",
   "execution_count": 5,
   "metadata": {},
   "outputs": [
    {
     "name": "stdout",
     "output_type": "stream",
     "text": [
      "Test Accuracy 0.8879\n"
     ]
    }
   ],
   "source": [
    "    \n",
    "def test(cnn):\n",
    "    cnn.eval()\n",
    "    with torch.no_grad():\n",
    "        correct = []\n",
    "        total = 0\n",
    "        for images, labels in dl_test:\n",
    "            test_output, last_layer = cnn(images)\n",
    "            pred_y = torch.max(test_output, 1)[1].data.squeeze()\n",
    "            accuracy = (pred_y==labels).sum().item()/float(labels.size(0))\n",
    "            correct.append(accuracy)\n",
    "    print(\"Test Accuracy\", sum(correct)/len(correct))\n",
    "\n",
    "test(cnn)"
   ]
  }
 ],
 "metadata": {
  "kernelspec": {
   "display_name": "AIR",
   "language": "python",
   "name": "python3"
  },
  "language_info": {
   "codemirror_mode": {
    "name": "ipython",
    "version": 3
   },
   "file_extension": ".py",
   "mimetype": "text/x-python",
   "name": "python",
   "nbconvert_exporter": "python",
   "pygments_lexer": "ipython3",
   "version": "3.12.2"
  }
 },
 "nbformat": 4,
 "nbformat_minor": 2
}
